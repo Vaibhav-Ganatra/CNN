{
  "nbformat": 4,
  "nbformat_minor": 0,
  "metadata": {
    "colab": {
      "name": "MNIST.ipynb",
      "provenance": [],
      "authorship_tag": "ABX9TyNHdPtJCl6WcPRnIHybkNba",
      "include_colab_link": true
    },
    "kernelspec": {
      "name": "python3",
      "display_name": "Python 3"
    }
  },
  "cells": [
    {
      "cell_type": "markdown",
      "metadata": {
        "id": "view-in-github",
        "colab_type": "text"
      },
      "source": [
        "<a href=\"https://colab.research.google.com/github/Vaibhav-Ganatra/CNN/blob/master/MNIST/MNIST.ipynb\" target=\"_parent\"><img src=\"https://colab.research.google.com/assets/colab-badge.svg\" alt=\"Open In Colab\"/></a>"
      ]
    },
    {
      "cell_type": "code",
      "metadata": {
        "id": "AW-NKbyL0nhY",
        "colab_type": "code",
        "colab": {}
      },
      "source": [
        "import torch\n",
        "import torchvision\n",
        "import torchvision.transforms as transforms"
      ],
      "execution_count": null,
      "outputs": []
    },
    {
      "cell_type": "code",
      "metadata": {
        "id": "ZQwmJRMgPT4g",
        "colab_type": "code",
        "colab": {}
      },
      "source": [
        "transform = transforms.Compose([transforms.ToTensor(),\n",
        "                               transforms.Normalize((0),(1))])\n",
        "trainset = torchvision.datasets.MNIST(root=\"./Downloads\",train=True,transform=transform, download=True)\n",
        "train_loader = torch.utils.data.DataLoader(trainset, batch_size=16, shuffle=True, num_workers=2)\n",
        "\n",
        "classes = (0,1,2,3,4,5,6,7,8,9)\n",
        "num_classes = 10"
      ],
      "execution_count": null,
      "outputs": []
    },
    {
      "cell_type": "code",
      "metadata": {
        "id": "TmmDivFfUDBs",
        "colab_type": "code",
        "colab": {}
      },
      "source": [
        "import torch.nn as nn\n",
        "import torch.nn.functional as functions\n",
        "\n",
        "class Net(nn.Module):\n",
        "  def __init__(self):\n",
        "    super(Net, self).__init__()\n",
        "    self.conv1 = nn.Conv2d(1,6,5,padding=2)\n",
        "    self.pool = nn.MaxPool2d(2,2)\n",
        "    self.conv2 = nn.Conv2d(6,16,5)\n",
        "    self.fc1 = nn.Linear(16*5*5,120)\n",
        "    self.fc2 = nn.Linear(120, 84)\n",
        "    self.fc3 = nn.Linear(84,10)\n",
        "\n",
        "  def forward(self,x):\n",
        "    x = self.pool(functions.relu(self.conv1(x)))\n",
        "    x = self.pool(functions.relu(self.conv2(x)))\n",
        "    x = x.view(-1,16*5*5)\n",
        "    x = functions.relu(self.fc1(x))\n",
        "    x = functions.relu(self.fc2(x))\n",
        "    x = self.fc3(x)\n",
        "\n",
        "    return x"
      ],
      "execution_count": null,
      "outputs": []
    },
    {
      "cell_type": "code",
      "metadata": {
        "id": "Xh7uEJMlXWL0",
        "colab_type": "code",
        "colab": {
          "base_uri": "https://localhost:8080/",
          "height": 163
        },
        "outputId": "0e8b2724-f7ea-4f0c-dd6f-e7a861fe23dd"
      },
      "source": [
        "net = Net()\n",
        "print(net)"
      ],
      "execution_count": null,
      "outputs": [
        {
          "output_type": "stream",
          "text": [
            "Net(\n",
            "  (conv1): Conv2d(1, 6, kernel_size=(5, 5), stride=(1, 1), padding=(2, 2))\n",
            "  (pool): MaxPool2d(kernel_size=2, stride=2, padding=0, dilation=1, ceil_mode=False)\n",
            "  (conv2): Conv2d(6, 16, kernel_size=(5, 5), stride=(1, 1))\n",
            "  (fc1): Linear(in_features=400, out_features=120, bias=True)\n",
            "  (fc2): Linear(in_features=120, out_features=84, bias=True)\n",
            "  (fc3): Linear(in_features=84, out_features=10, bias=True)\n",
            ")\n"
          ],
          "name": "stdout"
        }
      ]
    },
    {
      "cell_type": "code",
      "metadata": {
        "id": "vKX7EiS-XYNR",
        "colab_type": "code",
        "colab": {}
      },
      "source": [
        "import torch.optim as optim\n",
        "\n",
        "criterion = nn.CrossEntropyLoss()\n",
        "optimizer = optim.Adam(net.parameters())\n",
        "print(optimizer)"
      ],
      "execution_count": null,
      "outputs": []
    },
    {
      "cell_type": "code",
      "metadata": {
        "id": "J0DOHqwHXxXE",
        "colab_type": "code",
        "colab": {
          "base_uri": "https://localhost:8080/",
          "height": 145
        },
        "outputId": "31387a41-49c2-4b6d-bd01-59735229cb22"
      },
      "source": [
        "print(\"Training started! Model learning ...\")\n",
        "\n",
        "for epoch in range(5):\n",
        "  running_loss = 0.0\n",
        "\n",
        "  for i,data in enumerate(train_loader,0):\n",
        "    inputs, labels = data\n",
        "    optimizer.zero_grad()\n",
        "\n",
        "    outputs = net(inputs)\n",
        "    loss = criterion(outputs, labels)\n",
        "    loss.backward()\n",
        "    optimizer.step()\n",
        "\n",
        "    running_loss += loss.item()\n",
        "    if i % 2000 == 1999:    # print every 2000 mini-batches\n",
        "      print('[%d, %5d] loss: %.3f' % (epoch + 1, i + 1, running_loss / 2000))\n",
        "      running_loss = 0.0\n",
        "\n",
        "print(\"Training Complete!\")"
      ],
      "execution_count": null,
      "outputs": [
        {
          "output_type": "stream",
          "text": [
            "Training started! Model learning ...\n",
            "[1,  2000] loss: 0.242\n",
            "[2,  2000] loss: 0.056\n",
            "[3,  2000] loss: 0.042\n",
            "[4,  2000] loss: 0.030\n",
            "[5,  2000] loss: 0.024\n",
            "Training Complete!\n"
          ],
          "name": "stdout"
        }
      ]
    },
    {
      "cell_type": "code",
      "metadata": {
        "id": "kxF8zcggZNWr",
        "colab_type": "code",
        "colab": {}
      },
      "source": [
        "testset = torchvision.datasets.MNIST(root='./Downloads', train=False,\n",
        "                                       download=True, transform=transform)\n",
        "testloader = torch.utils.data.DataLoader(testset, batch_size=16,\n",
        "                                         shuffle=False, num_workers=2)"
      ],
      "execution_count": null,
      "outputs": []
    },
    {
      "cell_type": "code",
      "metadata": {
        "id": "Q_vI7wQfjbzX",
        "colab_type": "code",
        "colab": {}
      },
      "source": [
        "PATH = './mnist_net.pth'\n",
        "torch.save(net.state_dict(), PATH)"
      ],
      "execution_count": null,
      "outputs": []
    },
    {
      "cell_type": "code",
      "metadata": {
        "id": "TT3Yw8ZdjztE",
        "colab_type": "code",
        "colab": {}
      },
      "source": [
        "dataiter = iter(testloader)\n",
        "images, labels = dataiter.next()\n",
        "\n",
        "n_net = Net()\n",
        "n_net.load_state_dict(torch.load(PATH))\n",
        "\n",
        "outputs = net(images)\n",
        "\n",
        "# Making predictions for a few images\n",
        "_, predicted = torch.max(outputs, 1)\n",
        "\n",
        "print('Predicted: ', ' '.join('%5s' % classes[predicted[j]]\n",
        "                              for j in range(16)))"
      ],
      "execution_count": null,
      "outputs": []
    },
    {
      "cell_type": "code",
      "metadata": {
        "id": "4zQrf2enkKtk",
        "colab_type": "code",
        "colab": {
          "base_uri": "https://localhost:8080/",
          "height": 35
        },
        "outputId": "1e659ed0-f225-4d46-ac20-a9348e1b974c"
      },
      "source": [
        "# Testing the model on the Test set\n",
        "\n",
        "correct = 0\n",
        "total = 0\n",
        "with torch.no_grad():\n",
        "    i=0  \n",
        "    for data in testloader:\n",
        "        i+=16\n",
        "        images, labels = data\n",
        "        outputs = net(images)\n",
        "        _, predicted = torch.max(outputs.data, 1)\n",
        "        total += labels.size(0)\n",
        "        correct += (predicted == labels).sum().item()\n",
        "\n",
        "print('Accuracy of the network on '+ str(i)+' test images: %d %%' % (\n",
        "    100 * correct /float(total)))"
      ],
      "execution_count": null,
      "outputs": [
        {
          "output_type": "stream",
          "text": [
            "Accuracy of the network on 10000 test images: 98 %\n"
          ],
          "name": "stdout"
        }
      ]
    },
    {
      "cell_type": "code",
      "metadata": {
        "id": "P6LVPATakROZ",
        "colab_type": "code",
        "colab": {}
      },
      "source": [
        "# Here various Augmentation techniques such as RandomCrop, Adding Random Noise are present. \n",
        "# To test, we may use any combination of these transforms to check their effect on the accuracy of the model\n",
        "\n",
        "transform_aug = transforms.Compose([\n",
        "                              #  transforms.RandomCrop(28, padding=(5,5)),\n",
        "                                transforms.ToTensor(),\n",
        "                                transforms.Normalize((0),(1)),\n",
        "                                # transforms.RandomHorizontalFlip(p=1),\n",
        "                                # transforms.RandomVerticalFlip(1),\n",
        "                                # AddRandomNoise()\n",
        "                                ])\n",
        "testset_aug = torchvision.datasets.MNIST(root='./Downloads', train=False,\n",
        "                                       download=True, transform=transform_aug)\n",
        "testloader_aug = torch.utils.data.DataLoader(testset_aug, batch_size=16,\n",
        "                                         shuffle=False, num_workers=2)"
      ],
      "execution_count": null,
      "outputs": []
    },
    {
      "cell_type": "code",
      "metadata": {
        "id": "GyCcak5W7Pid",
        "colab_type": "code",
        "colab": {
          "base_uri": "https://localhost:8080/",
          "height": 35
        },
        "outputId": "45883901-5483-4531-ea5a-e1035ebb8b42"
      },
      "source": [
        "# Testing the model's performance on augmented datasets\n",
        "\n",
        "correct = 0\n",
        "total = 0\n",
        "with torch.no_grad():\n",
        "    i=0  \n",
        "    for data in testloader_aug:\n",
        "        i+=16\n",
        "        images, labels = data\n",
        "        outputs = net(images)\n",
        "        _, predicted = torch.max(outputs.data, 1)\n",
        "        total += labels.size(0)\n",
        "        correct += (predicted == labels).sum().item()\n",
        "\n",
        "print('Accuracy of the network on '+ str(i)+' test images with added augmentation: %d %%' % (\n",
        "    100 * correct /float(total)))"
      ],
      "execution_count": null,
      "outputs": [
        {
          "output_type": "stream",
          "text": [
            "Accuracy of the network on 10000 test images with added augmentation: 93 %\n"
          ],
          "name": "stdout"
        }
      ]
    },
    {
      "cell_type": "code",
      "metadata": {
        "id": "l0XU70po-FPr",
        "colab_type": "code",
        "colab": {}
      },
      "source": [
        "# Function to add random noise to the image\n",
        "\n",
        "class AddRandomNoise(object):\n",
        "    def __init__(self, mean=0., std=1.):\n",
        "        self.std = std\n",
        "        self.mean = mean\n",
        "        \n",
        "    def __call__(self, tensor):\n",
        "        return tensor + torch.randn(tensor.size())*0.25"
      ],
      "execution_count": null,
      "outputs": []
    }
  ]
}
